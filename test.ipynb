第一小題
from thinkdsp import Sinusoid
import numpy as np
class fakiis_Sawtooth(Sinusoid):
        
    def evaluate(self, ts):
    
        θ= ts * 2 * np.pi * self.freq + self.offset # 在此作橫軸之變數變換

        θ= θ % (np.pi * 2) # 這一行讓 θ 周而復始，週期維持在 (2 π)

        x= -1 + θ/np.pi # 從 -1 開始爬坡，上半週期到達　0,下半周期到達 +1 
       
        x= x * self.amp # 最後輸出前，再把縱軸拉到 振幅 = amp

        return x
第二小題
x= fakiis_Sawtooth(freq=1000,amp=10)
x.plot()
第三小題
w= x.make_wave()
s= w.make_spectrum()
s.plot(high=1000)
