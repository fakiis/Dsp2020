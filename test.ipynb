{
  "nbformat": 4,
  "nbformat_minor": 0,
  "metadata": {
    "colab": {
      "name": "test.ipynb",
      "provenance": [],
      "authorship_tag": "ABX9TyNKQXUgoYlYpivG+CFUcDTq",
      "include_colab_link": true
    },
    "kernelspec": {
      "name": "python3",
      "display_name": "Python 3"
    }
  },
  "cells": [
    {
      "cell_type": "markdown",
      "metadata": {
        "id": "view-in-github",
        "colab_type": "text"
      },
      "source": [
        "<a href=\"https://colab.research.google.com/github/fakiis/Dsp2020/blob/master/test.ipynb\" target=\"_parent\"><img src=\"https://colab.research.google.com/assets/colab-badge.svg\" alt=\"Open In Colab\"/></a>"
      ]
    },
    {
      "cell_type": "markdown",
      "metadata": {
        "id": "rayj76OAQ3c4",
        "colab_type": "text"
      },
      "source": [
        "第一小題"
      ]
    },
    {
      "cell_type": "code",
      "metadata": {
        "id": "a0pvT-sWQzG4",
        "colab_type": "code",
        "colab": {
          "base_uri": "https://localhost:8080/",
          "height": 363
        },
        "outputId": "0731e69f-2f2e-477d-ece4-49c4c0784ee9"
      },
      "source": [
        "from thinkdsp import Sinusoid\n",
        "import numpy as np\n",
        "import scipy as sp\n",
        "class fakiis_Sawtooth(Sinusoid):\n",
        "        \n",
        "  def evaluate(self, ts):\n",
        "    \n",
        "    θ = ts * 2 * np.pi * self.freq + self.offset # 在此作橫軸之變數變換\n",
        "\n",
        "    θ = θ % (np.pi * 2) # 這一行讓 θ 周而復始，週期維持在 (2 π)\n",
        "\n",
        "    x = -1 + θ/np.pi # 從 -1 開始爬坡，上半週期到達　0,下半周期到達 +1 \n",
        "       \n",
        "    x = x * self.amp # 最後輸出前，再把縱軸拉到 振幅 = amp\n",
        "\n",
        "    return x"
      ],
      "execution_count": 14,
      "outputs": [
        {
          "output_type": "error",
          "ename": "ModuleNotFoundError",
          "evalue": "ignored",
          "traceback": [
            "\u001b[0;31m---------------------------------------------------------------------------\u001b[0m",
            "\u001b[0;31mModuleNotFoundError\u001b[0m                       Traceback (most recent call last)",
            "\u001b[0;32m<ipython-input-14-301a33d00a04>\u001b[0m in \u001b[0;36m<module>\u001b[0;34m()\u001b[0m\n\u001b[0;32m----> 1\u001b[0;31m \u001b[0;32mfrom\u001b[0m \u001b[0mthinkdsp\u001b[0m \u001b[0;32mimport\u001b[0m \u001b[0mSinusoid\u001b[0m\u001b[0;34m\u001b[0m\u001b[0;34m\u001b[0m\u001b[0m\n\u001b[0m\u001b[1;32m      2\u001b[0m \u001b[0;32mimport\u001b[0m \u001b[0mnumpy\u001b[0m \u001b[0;32mas\u001b[0m \u001b[0mnp\u001b[0m\u001b[0;34m\u001b[0m\u001b[0;34m\u001b[0m\u001b[0m\n\u001b[1;32m      3\u001b[0m \u001b[0;32mimport\u001b[0m \u001b[0mscipy\u001b[0m \u001b[0;32mas\u001b[0m \u001b[0msp\u001b[0m\u001b[0;34m\u001b[0m\u001b[0;34m\u001b[0m\u001b[0m\n\u001b[1;32m      4\u001b[0m \u001b[0;32mclass\u001b[0m \u001b[0mfakiis_Sawtooth\u001b[0m\u001b[0;34m(\u001b[0m\u001b[0mSinusoid\u001b[0m\u001b[0;34m)\u001b[0m\u001b[0;34m:\u001b[0m\u001b[0;34m\u001b[0m\u001b[0;34m\u001b[0m\u001b[0m\n\u001b[1;32m      5\u001b[0m \u001b[0;34m\u001b[0m\u001b[0m\n",
            "\u001b[0;31mModuleNotFoundError\u001b[0m: No module named 'thinkdsp'",
            "",
            "\u001b[0;31m---------------------------------------------------------------------------\u001b[0;32m\nNOTE: If your import is failing due to a missing package, you can\nmanually install dependencies using either !pip or !apt.\n\nTo view examples of installing some common dependencies, click the\n\"Open Examples\" button below.\n\u001b[0;31m---------------------------------------------------------------------------\u001b[0m\n"
          ]
        }
      ]
    },
    {
      "cell_type": "markdown",
      "metadata": {
        "id": "VNCCX_v-RH27",
        "colab_type": "text"
      },
      "source": [
        "第二小題"
      ]
    },
    {
      "cell_type": "code",
      "metadata": {
        "id": "PZCohkFgRTaR",
        "colab_type": "code",
        "colab": {}
      },
      "source": [
        "x= fakiis_Sawtooth(freq=1000,amp=10)\n",
        "x.plot()"
      ],
      "execution_count": 0,
      "outputs": []
    },
    {
      "cell_type": "markdown",
      "metadata": {
        "id": "k7VYjDDBRV4H",
        "colab_type": "text"
      },
      "source": [
        "第三小題"
      ]
    },
    {
      "cell_type": "code",
      "metadata": {
        "id": "8I3tRkVoRX2f",
        "colab_type": "code",
        "colab": {}
      },
      "source": [
        "w= x.make_wave()\n",
        "s= w.make_spectrum()\n",
        "s.plot(high=1000)"
      ],
      "execution_count": 0,
      "outputs": []
    }
  ]
}