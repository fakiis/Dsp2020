{
  "nbformat": 4,
  "nbformat_minor": 0,
  "metadata": {
    "colab": {
      "name": "Untitled4.ipynb",
      "provenance": [],
      "authorship_tag": "ABX9TyN4GTaxLD31TLJVEdk+Sjpx",
      "include_colab_link": true
    },
    "kernelspec": {
      "name": "python3",
      "display_name": "Python 3"
    }
  },
  "cells": [
    {
      "cell_type": "markdown",
      "metadata": {
        "id": "view-in-github",
        "colab_type": "text"
      },
      "source": [
        "<a href=\"https://colab.research.google.com/github/fakiis/Dsp2020/blob/master/test-2.ipynb\" target=\"_parent\"><img src=\"https://colab.research.google.com/assets/colab-badge.svg\" alt=\"Open In Colab\"/></a>"
      ]
    },
    {
      "cell_type": "markdown",
      "metadata": {
        "id": "YZGEMGsdImdz",
        "colab_type": "text"
      },
      "source": [
        "[1]\\\n",
        "(a)常態分布![alt text](https://wikimedia.org/api/rest_v1/media/math/render/svg/21436c871122fb3ba2a676c208afcf91aaebf519)\\\n",
        "(b)卡方分布![alt text](https://wikimedia.org/api/rest_v1/media/math/render/svg/bfec4347f4ae8b48a56516cc4e5eaf05287e9f6c)\\\n",
        "(c)卡方分布![alt text](https://wikimedia.org/api/rest_v1/media/math/render/svg/bfec4347f4ae8b48a56516cc4e5eaf05287e9f6c)\\\n",
        "(d)柯西分布![alt text](https://wikimedia.org/api/rest_v1/media/math/render/svg/4a27e55208fcb481a2a5efcde57564590840870e)\\\n",
        "(e)t分布![alt text](https://wikimedia.org/api/rest_v1/media/math/render/svg/8b31572d6695ae230cbfb09a14d07aafb7a73587)\\\n",
        "(d)F分布![alt text](https://wikimedia.org/api/rest_v1/media/math/render/svg/a55e68498f7fd2c02998e8692ce340c3e9a5cedf)\\"
      ]
    },
    {
      "cell_type": "code",
      "metadata": {
        "id": "ljME0VTaMXGv",
        "colab_type": "code",
        "colab": {}
      },
      "source": [
        "import scipy.stats as st\n",
        "import scipy as sp"
      ],
      "execution_count": 0,
      "outputs": []
    },
    {
      "cell_type": "markdown",
      "metadata": {
        "id": "rxG-v8dqJlpo",
        "colab_type": "text"
      },
      "source": [
        "[2]\\\n",
        "(a)0.6914624612740131"
      ]
    },
    {
      "cell_type": "code",
      "metadata": {
        "id": "usT_9j4rMVDA",
        "colab_type": "code",
        "colab": {
          "base_uri": "https://localhost:8080/",
          "height": 34
        },
        "outputId": "5626f686-8e76-4002-ca5f-a3c185a86e2e"
      },
      "source": [
        "Z0Z1=st.norm.cdf(1,0,2)\n",
        "Z0Z1"
      ],
      "execution_count": 21,
      "outputs": [
        {
          "output_type": "execute_result",
          "data": {
            "text/plain": [
              "0.6914624612740131"
            ]
          },
          "metadata": {
            "tags": []
          },
          "execution_count": 21
        }
      ]
    },
    {
      "cell_type": "markdown",
      "metadata": {
        "id": "xVl1FPdlJpJG",
        "colab_type": "text"
      },
      "source": [
        "(b)0.6826894921370859"
      ]
    },
    {
      "cell_type": "code",
      "metadata": {
        "id": "GPLy2rl7A_5N",
        "colab_type": "code",
        "colab": {
          "base_uri": "https://localhost:8080/",
          "height": 34
        },
        "outputId": "8d57734b-86fa-4dd2-8320-0f8db44a67f9"
      },
      "source": [
        "Z02=st.chi2(df=1)\n",
        "Z02.cdf(x=1)"
      ],
      "execution_count": 25,
      "outputs": [
        {
          "output_type": "execute_result",
          "data": {
            "text/plain": [
              "0.6826894921370859"
            ]
          },
          "metadata": {
            "tags": []
          },
          "execution_count": 25
        }
      ]
    },
    {
      "cell_type": "markdown",
      "metadata": {
        "id": "Bagyz_E-KQAH",
        "colab_type": "text"
      },
      "source": [
        "(c)0.3934693402873665"
      ]
    },
    {
      "cell_type": "code",
      "metadata": {
        "id": "Jaab-MSIKQPu",
        "colab_type": "code",
        "colab": {
          "base_uri": "https://localhost:8080/",
          "height": 34
        },
        "outputId": "45f055c8-fd8a-475d-cef0-7123640d0a65"
      },
      "source": [
        "Z12Z22=st.chi2(df=2)\n",
        "Z12Z22.cdf(x=1)"
      ],
      "execution_count": 24,
      "outputs": [
        {
          "output_type": "execute_result",
          "data": {
            "text/plain": [
              "0.3934693402873665"
            ]
          },
          "metadata": {
            "tags": []
          },
          "execution_count": 24
        }
      ]
    },
    {
      "cell_type": "markdown",
      "metadata": {
        "id": "MXOm3VwtKdSH",
        "colab_type": "text"
      },
      "source": [
        "(d)0.75"
      ]
    },
    {
      "cell_type": "code",
      "metadata": {
        "id": "qrJnvEZ0Kcrn",
        "colab_type": "code",
        "colab": {
          "base_uri": "https://localhost:8080/",
          "height": 34
        },
        "outputId": "ecbe2bea-8e5f-4e2d-8bee-32fc360218c9"
      },
      "source": [
        "st.cauchy.cdf(1,0,1)"
      ],
      "execution_count": 22,
      "outputs": [
        {
          "output_type": "execute_result",
          "data": {
            "text/plain": [
              "0.75"
            ]
          },
          "metadata": {
            "tags": []
          },
          "execution_count": 22
        }
      ]
    },
    {
      "cell_type": "markdown",
      "metadata": {
        "id": "h6jb_oX3ONMY",
        "colab_type": "text"
      },
      "source": [
        "(e)0.7886751345948129"
      ]
    },
    {
      "cell_type": "code",
      "metadata": {
        "id": "n8oLgw87OOxG",
        "colab_type": "code",
        "colab": {
          "base_uri": "https://localhost:8080/",
          "height": 34
        },
        "outputId": "af204602-fbba-4b2b-fd64-e8d4d3a89f93"
      },
      "source": [
        "st.t.cdf(x=1,df=2)"
      ],
      "execution_count": 28,
      "outputs": [
        {
          "output_type": "execute_result",
          "data": {
            "text/plain": [
              "0.7886751345948129"
            ]
          },
          "metadata": {
            "tags": []
          },
          "execution_count": 28
        }
      ]
    },
    {
      "cell_type": "markdown",
      "metadata": {
        "id": "j-htV-94OPQW",
        "colab_type": "text"
      },
      "source": [
        "(f)0.5773502691896258"
      ]
    },
    {
      "cell_type": "code",
      "metadata": {
        "id": "b-MTt_D_OQe-",
        "colab_type": "code",
        "colab": {
          "base_uri": "https://localhost:8080/",
          "height": 34
        },
        "outputId": "185a7f3f-a1e5-4612-a267-02af1253bc78"
      },
      "source": [
        "st.f.cdf(1,1,2)"
      ],
      "execution_count": 30,
      "outputs": [
        {
          "output_type": "execute_result",
          "data": {
            "text/plain": [
              "0.5773502691896258"
            ]
          },
          "metadata": {
            "tags": []
          },
          "execution_count": 30
        }
      ]
    },
    {
      "cell_type": "markdown",
      "metadata": {
        "id": "yRlK80MqQtsG",
        "colab_type": "text"
      },
      "source": [
        "[3]\\\n",
        "(a)0.5\\\n",
        "(b)0.5\\\n",
        "(c)0.6006543911914558\\\n",
        "(d)(x1,x2)=(0.6006543911914558,0.6993456088085442)"
      ]
    },
    {
      "cell_type": "code",
      "metadata": {
        "id": "f7x4y1ZxR2-4",
        "colab_type": "code",
        "colab": {
          "base_uri": "https://localhost:8080/",
          "height": 34
        },
        "outputId": "3d2e42ce-289f-4c3f-e341-7e8516232dae"
      },
      "source": [
        "EA=0.65\n",
        "AA=0.64\n",
        "N=25\n",
        "StdA=0.03\n",
        "st.norm.cdf(x=EA,loc=EA,scale=StdA/(N**0.5))"
      ],
      "execution_count": 31,
      "outputs": [
        {
          "output_type": "execute_result",
          "data": {
            "text/plain": [
              "0.5"
            ]
          },
          "metadata": {
            "tags": []
          },
          "execution_count": 31
        }
      ]
    },
    {
      "cell_type": "code",
      "metadata": {
        "id": "LSxuSP2ITdu_",
        "colab_type": "code",
        "colab": {
          "base_uri": "https://localhost:8080/",
          "height": 34
        },
        "outputId": "dcb466e5-8774-4907-aa7d-dfd50adaaa03"
      },
      "source": [
        "st.norm.cdf(x=EA,loc=EA,scale=0.03)"
      ],
      "execution_count": 32,
      "outputs": [
        {
          "output_type": "execute_result",
          "data": {
            "text/plain": [
              "0.5"
            ]
          },
          "metadata": {
            "tags": []
          },
          "execution_count": 32
        }
      ]
    },
    {
      "cell_type": "code",
      "metadata": {
        "id": "9xMNgdiyUTLV",
        "colab_type": "code",
        "colab": {
          "base_uri": "https://localhost:8080/",
          "height": 34
        },
        "outputId": "5340121c-ac69-4d55-c16b-f664c393b6c1"
      },
      "source": [
        "prob1=0.05\n",
        "st.norm.ppf(prob1,EA,0.03)"
      ],
      "execution_count": 33,
      "outputs": [
        {
          "output_type": "execute_result",
          "data": {
            "text/plain": [
              "0.6006543911914558"
            ]
          },
          "metadata": {
            "tags": []
          },
          "execution_count": 33
        }
      ]
    },
    {
      "cell_type": "code",
      "metadata": {
        "id": "jXEBLU7FUwvk",
        "colab_type": "code",
        "colab": {
          "base_uri": "https://localhost:8080/",
          "height": 34
        },
        "outputId": "0697b45d-a8a0-4622-8bb4-9d9519e3b909"
      },
      "source": [
        "st.norm.isf(prob1,EA,0.03)"
      ],
      "execution_count": 38,
      "outputs": [
        {
          "output_type": "execute_result",
          "data": {
            "text/plain": [
              "0.6993456088085442"
            ]
          },
          "metadata": {
            "tags": []
          },
          "execution_count": 38
        }
      ]
    },
    {
      "cell_type": "code",
      "metadata": {
        "id": "mtMYSNpXWX3H",
        "colab_type": "code",
        "colab": {
          "base_uri": "https://localhost:8080/",
          "height": 34
        },
        "outputId": "51a2d635-6f25-4dea-ed89-dd97c3273dc5"
      },
      "source": [
        "st.norm.sf(0.6006543911914558,EA,0.03)-st.norm.sf(0.6993456088085442,EA,0.03)"
      ],
      "execution_count": 40,
      "outputs": [
        {
          "output_type": "execute_result",
          "data": {
            "text/plain": [
              "0.9000000000000004"
            ]
          },
          "metadata": {
            "tags": []
          },
          "execution_count": 40
        }
      ]
    }
  ]
}