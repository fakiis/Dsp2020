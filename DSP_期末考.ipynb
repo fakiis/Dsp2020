{
  "nbformat": 4,
  "nbformat_minor": 0,
  "metadata": {
    "colab": {
      "name": "Untitled6.ipynb",
      "provenance": [],
      "authorship_tag": "ABX9TyP9FiJKPrnNwxLQfdX+aHq6",
      "include_colab_link": true
    },
    "kernelspec": {
      "name": "python3",
      "display_name": "Python 3"
    }
  },
  "cells": [
    {
      "cell_type": "markdown",
      "metadata": {
        "id": "view-in-github",
        "colab_type": "text"
      },
      "source": [
        "<a href=\"https://colab.research.google.com/github/fakiis/Dsp2020/blob/master/DSP_%E6%9C%9F%E6%9C%AB%E8%80%83.ipynb\" target=\"_parent\"><img src=\"https://colab.research.google.com/assets/colab-badge.svg\" alt=\"Open In Colab\"/></a>"
      ]
    },
    {
      "cell_type": "code",
      "metadata": {
        "id": "nhhN5psRrttZ",
        "colab_type": "code",
        "colab": {
          "base_uri": "https://localhost:8080/",
          "height": 202
        },
        "outputId": "a54991a7-ddee-4b80-82b7-3452d5339c2e"
      },
      "source": [
        "!wget \"https://raw.githubusercontent.com/AllenDowney/ThinkDSP/master/code/thinkdsp.py\"\n",
        "import thinkdsp as td\n",
        "import scipy as sp\n",
        "import numpy as np"
      ],
      "execution_count": 1,
      "outputs": [
        {
          "output_type": "stream",
          "text": [
            "--2020-06-30 15:04:56--  https://raw.githubusercontent.com/AllenDowney/ThinkDSP/master/code/thinkdsp.py\n",
            "Resolving raw.githubusercontent.com (raw.githubusercontent.com)... 151.101.0.133, 151.101.64.133, 151.101.128.133, ...\n",
            "Connecting to raw.githubusercontent.com (raw.githubusercontent.com)|151.101.0.133|:443... connected.\n",
            "HTTP request sent, awaiting response... 200 OK\n",
            "Length: 48703 (48K) [text/plain]\n",
            "Saving to: ‘thinkdsp.py’\n",
            "\n",
            "\rthinkdsp.py           0%[                    ]       0  --.-KB/s               \rthinkdsp.py         100%[===================>]  47.56K  --.-KB/s    in 0.02s   \n",
            "\n",
            "2020-06-30 15:04:57 (1.90 MB/s) - ‘thinkdsp.py’ saved [48703/48703]\n",
            "\n"
          ],
          "name": "stdout"
        }
      ]
    },
    {
      "cell_type": "markdown",
      "metadata": {
        "id": "4s9N7xD579nC",
        "colab_type": "text"
      },
      "source": [
        "[1]\\\n",
        "(a)"
      ]
    },
    {
      "cell_type": "code",
      "metadata": {
        "id": "P7HBOjF4suSS",
        "colab_type": "code",
        "colab": {
          "base_uri": "https://localhost:8080/",
          "height": 34
        },
        "outputId": "a0cd6b49-8147-4f56-8b22-2242c0def5d8"
      },
      "source": [
        "x1=[1,0,0,0,0,0,0,0]\n",
        "X1=np.fft.fft(x1)\n",
        "X1"
      ],
      "execution_count": null,
      "outputs": [
        {
          "output_type": "execute_result",
          "data": {
            "text/plain": [
              "array([1.+0.j, 1.+0.j, 1.+0.j, 1.+0.j, 1.+0.j, 1.+0.j, 1.+0.j, 1.+0.j])"
            ]
          },
          "metadata": {
            "tags": []
          },
          "execution_count": 20
        }
      ]
    },
    {
      "cell_type": "markdown",
      "metadata": {
        "id": "jDDkkqnf78jK",
        "colab_type": "text"
      },
      "source": [
        "(b)"
      ]
    },
    {
      "cell_type": "code",
      "metadata": {
        "id": "IeGC91ZOtglX",
        "colab_type": "code",
        "colab": {
          "base_uri": "https://localhost:8080/",
          "height": 34
        },
        "outputId": "1c42f17f-4988-486a-c102-0cc578694e11"
      },
      "source": [
        "x2=[1,1,1,1,1,1,1,1]\n",
        "np.fft.fft(x2)"
      ],
      "execution_count": null,
      "outputs": [
        {
          "output_type": "execute_result",
          "data": {
            "text/plain": [
              "array([8.+0.j, 0.+0.j, 0.+0.j, 0.+0.j, 0.+0.j, 0.+0.j, 0.+0.j, 0.+0.j])"
            ]
          },
          "metadata": {
            "tags": []
          },
          "execution_count": 10
        }
      ]
    },
    {
      "cell_type": "markdown",
      "metadata": {
        "id": "c96sPNb_77NS",
        "colab_type": "text"
      },
      "source": [
        "(c)"
      ]
    },
    {
      "cell_type": "code",
      "metadata": {
        "id": "y9M5LgU1uiKI",
        "colab_type": "code",
        "colab": {
          "base_uri": "https://localhost:8080/",
          "height": 34
        },
        "outputId": "489b8bc9-84a9-454f-84e6-f60efede459c"
      },
      "source": [
        "x3=[1,-1,1,-1,1,-1,1,-1]\n",
        "np.fft.fft(x3)"
      ],
      "execution_count": null,
      "outputs": [
        {
          "output_type": "execute_result",
          "data": {
            "text/plain": [
              "array([0.+0.j, 0.+0.j, 0.+0.j, 0.+0.j, 8.+0.j, 0.+0.j, 0.+0.j, 0.+0.j])"
            ]
          },
          "metadata": {
            "tags": []
          },
          "execution_count": 11
        }
      ]
    },
    {
      "cell_type": "markdown",
      "metadata": {
        "id": "VqrOK9c9753C",
        "colab_type": "text"
      },
      "source": [
        "(d)"
      ]
    },
    {
      "cell_type": "code",
      "metadata": {
        "id": "o039NnekvNyH",
        "colab_type": "code",
        "colab": {
          "base_uri": "https://localhost:8080/",
          "height": 34
        },
        "outputId": "8b7e1c09-a1aa-4932-9afd-d9d56fc35fb7"
      },
      "source": [
        "x4=[3,0,2,0,2,0,2,0]\n",
        "np.fft.fft(x4)"
      ],
      "execution_count": null,
      "outputs": [
        {
          "output_type": "execute_result",
          "data": {
            "text/plain": [
              "array([9.+0.j, 1.+0.j, 1.+0.j, 1.+0.j, 9.+0.j, 1.+0.j, 1.+0.j, 1.+0.j])"
            ]
          },
          "metadata": {
            "tags": []
          },
          "execution_count": 14
        }
      ]
    },
    {
      "cell_type": "markdown",
      "metadata": {
        "id": "JRXUzllbyu-P",
        "colab_type": "text"
      },
      "source": [
        "(e)當x[n]為實數時，X[k]與X[N-k]為共軛複數"
      ]
    },
    {
      "cell_type": "markdown",
      "metadata": {
        "id": "igjkGPkc7sdL",
        "colab_type": "text"
      },
      "source": [
        "(f)"
      ]
    },
    {
      "cell_type": "code",
      "metadata": {
        "id": "6JLJMrPWzEdm",
        "colab_type": "code",
        "colab": {
          "base_uri": "https://localhost:8080/",
          "height": 102
        },
        "outputId": "68cab6fb-8e57-4d75-c692-01fa86bea071"
      },
      "source": [
        "X5=[1,1,0,0,0,0,1,1]\n",
        "X6=[1,1,0,0,0,0,0,1]\n",
        "np.fft.ifft(X5),np.fft.ifft(X6)"
      ],
      "execution_count": null,
      "outputs": [
        {
          "output_type": "execute_result",
          "data": {
            "text/plain": [
              "(array([ 0.5      +0.j   ,  0.3017767-0.125j,  0.       +0.j   ,\n",
              "        -0.0517767+0.125j,  0.       +0.j   , -0.0517767-0.125j,\n",
              "         0.       +0.j   ,  0.3017767+0.125j]),\n",
              " array([ 0.375    +0.j,  0.3017767+0.j,  0.125    +0.j, -0.0517767+0.j,\n",
              "        -0.125    +0.j, -0.0517767+0.j,  0.125    +0.j,  0.3017767+0.j]))"
            ]
          },
          "metadata": {
            "tags": []
          },
          "execution_count": 23
        }
      ]
    },
    {
      "cell_type": "markdown",
      "metadata": {
        "id": "ae6t5yal7iaS",
        "colab_type": "text"
      },
      "source": [
        "(g)"
      ]
    },
    {
      "cell_type": "code",
      "metadata": {
        "id": "iArFk15J0ilm",
        "colab_type": "code",
        "colab": {
          "base_uri": "https://localhost:8080/",
          "height": 119
        },
        "outputId": "4acecb11-e760-483b-ed9d-1086f1522539"
      },
      "source": [
        "x7=[1,1,0,0]\n",
        "x8=[1,1,0,0,0,0,0,0]\n",
        "x9=[1,1]\n",
        "np.fft.fft(x7),np.fft.fft(x8),np.fft.fft(x9)"
      ],
      "execution_count": null,
      "outputs": [
        {
          "output_type": "execute_result",
          "data": {
            "text/plain": [
              "(array([2.+0.j, 1.-1.j, 0.+0.j, 1.+1.j]),\n",
              " array([2.        +0.j        , 1.70710678-0.70710678j,\n",
              "        1.        -1.j        , 0.29289322-0.70710678j,\n",
              "        0.        +0.j        , 0.29289322+0.70710678j,\n",
              "        1.        +1.j        , 1.70710678+0.70710678j]),\n",
              " array([2.+0.j, 0.+0.j]))"
            ]
          },
          "metadata": {
            "tags": []
          },
          "execution_count": 25
        }
      ]
    },
    {
      "cell_type": "markdown",
      "metadata": {
        "id": "lXxV0iHu7fCi",
        "colab_type": "text"
      },
      "source": [
        "[2]\\\n",
        "(a)\\\n",
        "(b)"
      ]
    },
    {
      "cell_type": "code",
      "metadata": {
        "id": "tJROGW7I2624",
        "colab_type": "code",
        "colab": {
          "base_uri": "https://localhost:8080/",
          "height": 34
        },
        "outputId": "45dbd81d-3d65-4ac3-a5ea-2bb34e7af582"
      },
      "source": [
        "xn=[1,1,1,1]\n",
        "w=[1,1]\n",
        "y=np.convolve(xn,w,mode='full')\n",
        "y"
      ],
      "execution_count": 5,
      "outputs": [
        {
          "output_type": "execute_result",
          "data": {
            "text/plain": [
              "array([1, 2, 2, 2, 1])"
            ]
          },
          "metadata": {
            "tags": []
          },
          "execution_count": 5
        }
      ]
    },
    {
      "cell_type": "markdown",
      "metadata": {
        "id": "-EEjec957DWi",
        "colab_type": "text"
      },
      "source": [
        "(c)(d)"
      ]
    },
    {
      "cell_type": "code",
      "metadata": {
        "id": "zinaH9J684Fc",
        "colab_type": "code",
        "colab": {
          "base_uri": "https://localhost:8080/",
          "height": 85
        },
        "outputId": "3c23d794-b5ae-40f8-8738-afe82896815e"
      },
      "source": [
        "XN=np.fft.fft(xn)\n",
        "W=np.fft.fft(w)\n",
        "Y=np.fft.fft(y)\n",
        "np.convolve(XN,W,mode='full'),Y"
      ],
      "execution_count": null,
      "outputs": [
        {
          "output_type": "execute_result",
          "data": {
            "text/plain": [
              "(array([8.+0.j, 0.+0.j, 0.+0.j, 0.+0.j, 0.+0.j]),\n",
              " array([ 8.        +0.j        , -1.30901699-0.95105652j,\n",
              "        -0.19098301-0.58778525j, -0.19098301+0.58778525j,\n",
              "        -1.30901699+0.95105652j]))"
            ]
          },
          "metadata": {
            "tags": []
          },
          "execution_count": 49
        }
      ]
    },
    {
      "cell_type": "markdown",
      "metadata": {
        "id": "hD7ZunE67Bg0",
        "colab_type": "text"
      },
      "source": [
        "[4]"
      ]
    },
    {
      "cell_type": "code",
      "metadata": {
        "id": "nlZ6s4aqCCPy",
        "colab_type": "code",
        "colab": {
          "base_uri": "https://localhost:8080/",
          "height": 330
        },
        "outputId": "639273e8-758a-4ade-9d07-17570670841a"
      },
      "source": [
        "xnn=np.array([10,11,12,13,14,15,16,17])\n",
        "HN=np.array([1,1,0,0,0,0,0,0])\n",
        "XNN=td.Wave(xnn,framerate=8)\n",
        "kk=XNN.make_spectrum(full=True)\n",
        "product = kk * HN\n",
        "product.plot()"
      ],
      "execution_count": 31,
      "outputs": [
        {
          "output_type": "error",
          "ename": "AttributeError",
          "evalue": "ignored",
          "traceback": [
            "\u001b[0;31m---------------------------------------------------------------------------\u001b[0m",
            "\u001b[0;31mAttributeError\u001b[0m                            Traceback (most recent call last)",
            "\u001b[0;32m<ipython-input-31-33e2c988f438>\u001b[0m in \u001b[0;36m<module>\u001b[0;34m()\u001b[0m\n\u001b[1;32m      3\u001b[0m \u001b[0mXNN\u001b[0m\u001b[0;34m=\u001b[0m\u001b[0mtd\u001b[0m\u001b[0;34m.\u001b[0m\u001b[0mWave\u001b[0m\u001b[0;34m(\u001b[0m\u001b[0mxnn\u001b[0m\u001b[0;34m,\u001b[0m\u001b[0mframerate\u001b[0m\u001b[0;34m=\u001b[0m\u001b[0;36m8\u001b[0m\u001b[0;34m)\u001b[0m\u001b[0;34m\u001b[0m\u001b[0;34m\u001b[0m\u001b[0m\n\u001b[1;32m      4\u001b[0m \u001b[0mkk\u001b[0m\u001b[0;34m=\u001b[0m\u001b[0mXNN\u001b[0m\u001b[0;34m.\u001b[0m\u001b[0mmake_spectrum\u001b[0m\u001b[0;34m(\u001b[0m\u001b[0mfull\u001b[0m\u001b[0;34m=\u001b[0m\u001b[0;32mTrue\u001b[0m\u001b[0;34m)\u001b[0m\u001b[0;34m\u001b[0m\u001b[0;34m\u001b[0m\u001b[0m\n\u001b[0;32m----> 5\u001b[0;31m \u001b[0mproduct\u001b[0m \u001b[0;34m=\u001b[0m \u001b[0mkk\u001b[0m \u001b[0;34m*\u001b[0m \u001b[0mHN\u001b[0m\u001b[0;34m\u001b[0m\u001b[0;34m\u001b[0m\u001b[0m\n\u001b[0m\u001b[1;32m      6\u001b[0m \u001b[0mproduct\u001b[0m\u001b[0;34m.\u001b[0m\u001b[0mplot\u001b[0m\u001b[0;34m(\u001b[0m\u001b[0;34m)\u001b[0m\u001b[0;34m\u001b[0m\u001b[0;34m\u001b[0m\u001b[0m\n",
            "\u001b[0;32m/content/thinkdsp.py\u001b[0m in \u001b[0;36m__mul__\u001b[0;34m(self, other)\u001b[0m\n\u001b[1;32m    337\u001b[0m         \u001b[0mreturns\u001b[0m\u001b[0;34m:\u001b[0m \u001b[0mnew\u001b[0m \u001b[0mSpectrum\u001b[0m\u001b[0;34m\u001b[0m\u001b[0;34m\u001b[0m\u001b[0m\n\u001b[1;32m    338\u001b[0m         \"\"\"\n\u001b[0;32m--> 339\u001b[0;31m         \u001b[0;32massert\u001b[0m \u001b[0mall\u001b[0m\u001b[0;34m(\u001b[0m\u001b[0mself\u001b[0m\u001b[0;34m.\u001b[0m\u001b[0mfs\u001b[0m \u001b[0;34m==\u001b[0m \u001b[0mother\u001b[0m\u001b[0;34m.\u001b[0m\u001b[0mfs\u001b[0m\u001b[0;34m)\u001b[0m\u001b[0;34m\u001b[0m\u001b[0;34m\u001b[0m\u001b[0m\n\u001b[0m\u001b[1;32m    340\u001b[0m         \u001b[0mhs\u001b[0m \u001b[0;34m=\u001b[0m \u001b[0mself\u001b[0m\u001b[0;34m.\u001b[0m\u001b[0mhs\u001b[0m \u001b[0;34m*\u001b[0m \u001b[0mother\u001b[0m\u001b[0;34m.\u001b[0m\u001b[0mhs\u001b[0m\u001b[0;34m\u001b[0m\u001b[0;34m\u001b[0m\u001b[0m\n\u001b[1;32m    341\u001b[0m         \u001b[0;32mreturn\u001b[0m \u001b[0mSpectrum\u001b[0m\u001b[0;34m(\u001b[0m\u001b[0mhs\u001b[0m\u001b[0;34m,\u001b[0m \u001b[0mself\u001b[0m\u001b[0;34m.\u001b[0m\u001b[0mfs\u001b[0m\u001b[0;34m,\u001b[0m \u001b[0mself\u001b[0m\u001b[0;34m.\u001b[0m\u001b[0mframerate\u001b[0m\u001b[0;34m,\u001b[0m \u001b[0mself\u001b[0m\u001b[0;34m.\u001b[0m\u001b[0mfull\u001b[0m\u001b[0;34m)\u001b[0m\u001b[0;34m\u001b[0m\u001b[0;34m\u001b[0m\u001b[0m\n",
            "\u001b[0;31mAttributeError\u001b[0m: 'numpy.ndarray' object has no attribute 'fs'"
          ]
        }
      ]
    },
    {
      "cell_type": "code",
      "metadata": {
        "id": "PciS3fnp6Kl8",
        "colab_type": "code",
        "colab": {}
      },
      "source": [
        ""
      ],
      "execution_count": null,
      "outputs": []
    }
  ]
}